{
  "nbformat": 4,
  "nbformat_minor": 0,
  "metadata": {
    "colab": {
      "provenance": [],
      "authorship_tag": "ABX9TyOlglx38wBkplTYMwwJh/cV",
      "include_colab_link": true
    },
    "kernelspec": {
      "name": "python3",
      "display_name": "Python 3"
    },
    "language_info": {
      "name": "python"
    }
  },
  "cells": [
    {
      "cell_type": "markdown",
      "metadata": {
        "id": "view-in-github",
        "colab_type": "text"
      },
      "source": [
        "<a href=\"https://colab.research.google.com/github/namanraiyani/PyTorch_Practice/blob/main/LinearRegression.ipynb\" target=\"_parent\"><img src=\"https://colab.research.google.com/assets/colab-badge.svg\" alt=\"Open In Colab\"/></a>"
      ]
    },
    {
      "cell_type": "markdown",
      "source": [
        "Import Libraries"
      ],
      "metadata": {
        "id": "quZXe0tsdcn_"
      }
    },
    {
      "cell_type": "code",
      "execution_count": 94,
      "metadata": {
        "id": "sSkJjCwgFW6H"
      },
      "outputs": [],
      "source": [
        "import torch\n",
        "import torch.nn as nn\n",
        "import numpy as np\n",
        "import matplotlib.pyplot as plt"
      ]
    },
    {
      "cell_type": "markdown",
      "source": [
        "Data"
      ],
      "metadata": {
        "id": "UJD4Vm79dhJb"
      }
    },
    {
      "cell_type": "code",
      "source": [
        "x_train = np.array([[2.5], [3.8], [5.1], [6.3], [7.0], [3.5],\n",
        "                        [8.5], [5.7], [7.8], [1.9], [6.5],\n",
        "                        [9.8], [4.9], [8.1], [2.2]], dtype=np.float32)\n",
        "\n",
        "y_train = np.array([[1.4], [2.2], [2.9], [3.4], [3.7], [2.0],\n",
        "                        [4.1], [3.1], [3.9], [1.1], [3.5],\n",
        "                        [4.6], [2.8], [4.2], [1.3]], dtype=np.float32)"
      ],
      "metadata": {
        "id": "IOnCoFsMHkWR"
      },
      "execution_count": 95,
      "outputs": []
    },
    {
      "cell_type": "code",
      "source": [
        "# Convert numpy arrays to tensors\n",
        "x_train = torch.from_numpy(x_train)\n",
        "y_train = torch.from_numpy(y_train)"
      ],
      "metadata": {
        "id": "2ia-L31LIbTO"
      },
      "execution_count": 96,
      "outputs": []
    },
    {
      "cell_type": "code",
      "source": [
        "# Visualize data\n",
        "plt.figure(figsize = (5,5))\n",
        "plt.plot(x_train,y_train, 'ro', label = \"Data\")\n",
        "plt.xlabel('X')\n",
        "plt.ylabel('Y')\n",
        "plt.legend()"
      ],
      "metadata": {
        "colab": {
          "base_uri": "https://localhost:8080/",
          "height": 483
        },
        "id": "_GcJJ5VCICKm",
        "outputId": "0b861303-f06c-42d2-ad36-cfafcd914c95"
      },
      "execution_count": 97,
      "outputs": [
        {
          "output_type": "execute_result",
          "data": {
            "text/plain": [
              "<matplotlib.legend.Legend at 0x7a6cb30cf510>"
            ]
          },
          "metadata": {},
          "execution_count": 97
        },
        {
          "output_type": "display_data",
          "data": {
            "text/plain": [
              "<Figure size 500x500 with 1 Axes>"
            ],
            "image/png": "[encoded data removed]"
          },
          "metadata": {}
        }
      ]
    },
    {
      "cell_type": "markdown",
      "source": [
        "Define Linear Model"
      ],
      "metadata": {
        "id": "81iCiCsadsoR"
      }
    },
    {
      "cell_type": "code",
      "source": [
        "class LinearRegression(nn.Module):\n",
        "  def __init__(self):\n",
        "    super().__init__()\n",
        "    self.linear_model = nn.Linear(in_features = 1, out_features = 1)\n",
        "\n",
        "  def forward(self, x):\n",
        "    output_prediction = self.linear_model(x)\n",
        "    return output_prediction"
      ],
      "metadata": {
        "id": "UXax3L8HY8e_"
      },
      "execution_count": 98,
      "outputs": []
    },
    {
      "cell_type": "code",
      "source": [
        "model = LinearRegression()\n",
        "model"
      ],
      "metadata": {
        "colab": {
          "base_uri": "https://localhost:8080/"
        },
        "id": "D__gWKrrJIeD",
        "outputId": "63cefa6d-50fe-4255-eb35-8693cec27091"
      },
      "execution_count": 99,
      "outputs": [
        {
          "output_type": "execute_result",
          "data": {
            "text/plain": [
              "LinearRegression(\n",
              "  (linear_model): Linear(in_features=1, out_features=1, bias=True)\n",
              ")"
            ]
          },
          "metadata": {},
          "execution_count": 99
        }
      ]
    },
    {
      "cell_type": "code",
      "source": [
        "model.state_dict()"
      ],
      "metadata": {
        "colab": {
          "base_uri": "https://localhost:8080/"
        },
        "id": "JyqLKJLmJMw_",
        "outputId": "011ba5cd-33be-4f9e-9622-37edf2be9668"
      },
      "execution_count": 100,
      "outputs": [
        {
          "output_type": "execute_result",
          "data": {
            "text/plain": [
              "OrderedDict([('linear_model.weight', tensor([[0.8297]])),\n",
              "             ('linear_model.bias', tensor([-0.0402]))])"
            ]
          },
          "metadata": {},
          "execution_count": 100
        }
      ]
    },
    {
      "cell_type": "markdown",
      "source": [
        "Loss Function and Optimizer"
      ],
      "metadata": {
        "id": "-9YUrLCqdwCW"
      }
    },
    {
      "cell_type": "code",
      "source": [
        "criterion = nn.MSELoss()\n",
        "optimizer = torch.optim.SGD(model.parameters(), lr = 1e-4)"
      ],
      "metadata": {
        "id": "OVmFx_oMNJ-9"
      },
      "execution_count": 101,
      "outputs": []
    },
    {
      "cell_type": "markdown",
      "source": [
        "Training Loop"
      ],
      "metadata": {
        "id": "rmRsJJ_Ydyb-"
      }
    },
    {
      "cell_type": "code",
      "source": [
        "epochs = 1000\n",
        "for epoch in range(epochs):\n",
        "  model.train()\n",
        "  output_prediction = model(x_train)\n",
        "  loss = criterion(output_prediction, y_train)\n",
        "\n",
        "  optimizer.zero_grad()\n",
        "  loss.backward()\n",
        "  optimizer.step()\n",
        "\n",
        "  if(epoch + 1) % 50 == 0:\n",
        "    print(f'Epoch - {epoch + 1} / {epochs} \\t Loss - {loss.item():.6f}')"
      ],
      "metadata": {
        "colab": {
          "base_uri": "https://localhost:8080/"
        },
        "id": "lMAbbbZ3Xw8j",
        "outputId": "d59dd0ea-fa91-4c07-9007-9b7ceff72316"
      },
      "execution_count": 102,
      "outputs": [
        {
          "output_type": "stream",
          "name": "stdout",
          "text": [
            "Epoch - 50 / 1000 \t Loss - 1.695343\n",
            "Epoch - 100 / 1000 \t Loss - 0.828636\n",
            "Epoch - 150 / 1000 \t Loss - 0.420248\n",
            "Epoch - 200 / 1000 \t Loss - 0.227786\n",
            "Epoch - 250 / 1000 \t Loss - 0.137053\n",
            "Epoch - 300 / 1000 \t Loss - 0.094249\n",
            "Epoch - 350 / 1000 \t Loss - 0.074025\n",
            "Epoch - 400 / 1000 \t Loss - 0.064440\n",
            "Epoch - 450 / 1000 \t Loss - 0.059867\n",
            "Epoch - 500 / 1000 \t Loss - 0.057656\n",
            "Epoch - 550 / 1000 \t Loss - 0.056558\n",
            "Epoch - 600 / 1000 \t Loss - 0.055984\n",
            "Epoch - 650 / 1000 \t Loss - 0.055657\n",
            "Epoch - 700 / 1000 \t Loss - 0.055447\n",
            "Epoch - 750 / 1000 \t Loss - 0.055292\n",
            "Epoch - 800 / 1000 \t Loss - 0.055163\n",
            "Epoch - 850 / 1000 \t Loss - 0.055046\n",
            "Epoch - 900 / 1000 \t Loss - 0.054936\n",
            "Epoch - 950 / 1000 \t Loss - 0.054829\n",
            "Epoch - 1000 / 1000 \t Loss - 0.054723\n"
          ]
        }
      ]
    },
    {
      "cell_type": "markdown",
      "source": [
        "Test"
      ],
      "metadata": {
        "id": "zpKPeHdGd5Vi"
      }
    },
    {
      "cell_type": "code",
      "source": [
        "model.eval()\n",
        "with torch.no_grad():\n",
        "  predictions = model(x_train)\n",
        "predictions.data.numpy()"
      ],
      "metadata": {
        "colab": {
          "base_uri": "https://localhost:8080/"
        },
        "id": "VNanLQwtYo52",
        "outputId": "94e5f623-c7bf-4eb0-9de0-0d65273456f0"
      },
      "execution_count": 103,
      "outputs": [
        {
          "output_type": "execute_result",
          "data": {
            "text/plain": [
              "array([[1.2508091],\n",
              "       [1.9383174],\n",
              "       [2.625826 ],\n",
              "       [3.2604494],\n",
              "       [3.630646 ],\n",
              "       [1.7796617],\n",
              "       [4.423925 ],\n",
              "       [2.9431374],\n",
              "       [4.053728 ],\n",
              "       [0.9334974],\n",
              "       [3.3662198],\n",
              "       [5.1114335],\n",
              "       [2.5200555],\n",
              "       [4.212384 ],\n",
              "       [1.0921533]], dtype=float32)"
            ]
          },
          "metadata": {},
          "execution_count": 103
        }
      ]
    },
    {
      "cell_type": "code",
      "source": [
        "# Visualize Results\n",
        "plt.figure(figsize = (5,5))\n",
        "plt.plot(x_train.numpy(), y_train.numpy(), 'ro', label = \"Original Data\")\n",
        "\n",
        "predicted_line_x = torch.linspace(x_train.min(), x_train.max(), 100).unsqueeze(1)\n",
        "with torch.no_grad():\n",
        "    predicted_line_y = model(predicted_line_x)\n",
        "plt.plot(predicted_line_x.numpy(), predicted_line_y.numpy(), 'b-', label = 'Learned Line')\n",
        "\n",
        "plt.plot(x_train.numpy(), predictions.numpy(), 'go', markersize = 5, label = 'Predictions')\n",
        "\n",
        "plt.xlabel('X')\n",
        "plt.ylabel('Y')\n",
        "plt.title('Linear Regression')\n",
        "plt.legend()"
      ],
      "metadata": {
        "colab": {
          "base_uri": "https://localhost:8080/",
          "height": 505
        },
        "id": "cxfk00CIeG75",
        "outputId": "47c038e5-5466-4f94-d084-63a1164b0d87"
      },
      "execution_count": 104,
      "outputs": [
        {
          "output_type": "execute_result",
          "data": {
            "text/plain": [
              "<matplotlib.legend.Legend at 0x7a6cb2d768d0>"
            ]
          },
          "metadata": {},
          "execution_count": 104
        },
        {
          "output_type": "display_data",
          "data": {
            "text/plain": [
              "<Figure size 500x500 with 1 Axes>"
            ],
            "image/png": "[encoded data removed]"
          },
          "metadata": {}
        }
      ]
    }
  ]
}