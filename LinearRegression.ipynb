{
  "nbformat": 4,
  "nbformat_minor": 0,
  "metadata": {
    "colab": {
      "provenance": [],
      "authorship_tag": "ABX9TyOeJ0qVWTgu9Te9Y36WSYpl",
      "include_colab_link": true
    },
    "kernelspec": {
      "name": "python3",
      "display_name": "Python 3"
    },
    "language_info": {
      "name": "python"
    }
  },
  "cells": [
    {
      "cell_type": "markdown",
      "metadata": {
        "id": "view-in-github",
        "colab_type": "text"
      },
      "source": [
        "<a href=\"https://colab.research.google.com/github/namanraiyani/PyTorch_Practice/blob/main/LinearRegression.ipynb\" target=\"_parent\"><img src=\"https://colab.research.google.com/assets/colab-badge.svg\" alt=\"Open In Colab\"/></a>"
      ]
    },
    {
      "cell_type": "code",
      "execution_count": 1,
      "metadata": {
        "id": "sSkJjCwgFW6H"
      },
      "outputs": [],
      "source": [
        "import torch\n",
        "import torch.nn as nn\n",
        "import numpy as np\n",
        "import matplotlib.pyplot as plt"
      ]
    },
    {
      "cell_type": "code",
      "source": [
        "torch.manual_seed(13)"
      ],
      "metadata": {
        "colab": {
          "base_uri": "https://localhost:8080/"
        },
        "id": "pBTSOtdpNMjb",
        "outputId": "d4c9c4e8-98b8-44ae-e78d-06b4dc69a8ca"
      },
      "execution_count": 26,
      "outputs": [
        {
          "output_type": "execute_result",
          "data": {
            "text/plain": [
              "<torch._C.Generator at 0x7a6d9c795fb0>"
            ]
          },
          "metadata": {},
          "execution_count": 26
        }
      ]
    },
    {
      "cell_type": "code",
      "source": [
        "x_train = np.array([[2.5], [3.8], [5.1], [6.3], [7.0], [3.5],\n",
        "                        [8.5], [5.7], [7.8], [1.9], [6.5],\n",
        "                        [9.8], [4.9], [8.1], [2.2]], dtype=np.float32)\n",
        "\n",
        "y_train = np.array([[1.4], [2.2], [2.9], [3.4], [3.7], [2.0],\n",
        "                        [4.1], [3.1], [3.9], [1.1], [3.5],\n",
        "                        [4.6], [2.8], [4.2], [1.3]], dtype=np.float32)"
      ],
      "metadata": {
        "id": "IOnCoFsMHkWR"
      },
      "execution_count": 27,
      "outputs": []
    },
    {
      "cell_type": "code",
      "source": [
        "x_train = torch.from_numpy(x_train)\n",
        "y_train = torch.from_numpy(y_train)"
      ],
      "metadata": {
        "id": "2ia-L31LIbTO"
      },
      "execution_count": 28,
      "outputs": []
    },
    {
      "cell_type": "code",
      "source": [
        "plt.figure(figsize = (5,5))\n",
        "plt.plot(x_train,y_train, 'ro', label = \"Data\")\n",
        "plt.xlabel('X')\n",
        "plt.ylabel('Y')\n",
        "plt.legend()"
      ],
      "metadata": {
        "colab": {
          "base_uri": "https://localhost:8080/",
          "height": 483
        },
        "id": "_GcJJ5VCICKm",
        "outputId": "7d2c37f8-2417-4feb-81fe-f0e5f84a9341"
      },
      "execution_count": 29,
      "outputs": [
        {
          "output_type": "execute_result",
          "data": {
            "text/plain": [
              "<matplotlib.legend.Legend at 0x7a6cbe7a1f10>"
            ]
          },
          "metadata": {},
          "execution_count": 29
        },
        {
          "output_type": "display_data",
          "data": {
            "text/plain": [
              "<Figure size 500x500 with 1 Axes>"
            ],
            "image/png": "[encoded data removed]"
          },
          "metadata": {}
        }
      ]
    },
    {
      "cell_type": "code",
      "source": [
        "class LinearRegression(nn.Module):\n",
        "  def __init__(self):\n",
        "    super().__init__()\n",
        "    self.model = nn.Linear(in_features = 1, out_features = 1)\n",
        "\n",
        "  def forward(self, x):\n",
        "    output_prediction = self.linear(x)\n",
        "    return output_prediction"
      ],
      "metadata": {
        "id": "TVaL0PekIjiX"
      },
      "execution_count": 30,
      "outputs": []
    },
    {
      "cell_type": "code",
      "source": [
        "model = LinearRegression()\n",
        "model"
      ],
      "metadata": {
        "colab": {
          "base_uri": "https://localhost:8080/"
        },
        "id": "D__gWKrrJIeD",
        "outputId": "44d398af-9327-42f0-fbdd-9b2b0bdbf2aa"
      },
      "execution_count": 37,
      "outputs": [
        {
          "output_type": "execute_result",
          "data": {
            "text/plain": [
              "LinearRegression(\n",
              "  (model): Linear(in_features=1, out_features=1, bias=True)\n",
              ")"
            ]
          },
          "metadata": {},
          "execution_count": 37
        }
      ]
    },
    {
      "cell_type": "code",
      "source": [
        "model.state_dict()"
      ],
      "metadata": {
        "colab": {
          "base_uri": "https://localhost:8080/"
        },
        "id": "JyqLKJLmJMw_",
        "outputId": "18d5b527-b6c3-439b-bc95-eda9010e5756"
      },
      "execution_count": 38,
      "outputs": [
        {
          "output_type": "execute_result",
          "data": {
            "text/plain": [
              "OrderedDict([('model.weight', tensor([[-0.9694]])),\n",
              "             ('model.bias', tensor([0.2071]))])"
            ]
          },
          "metadata": {},
          "execution_count": 38
        }
      ]
    },
    {
      "cell_type": "code",
      "source": [
        "criterion = nn.MSELoss()\n",
        "optimizer = torch.optim.SGD(model.parameters(), lr = 1e-4)"
      ],
      "metadata": {
        "id": "OVmFx_oMNJ-9"
      },
      "execution_count": 39,
      "outputs": []
    },
    {
      "cell_type": "code",
      "source": [
        "epochs = 1000\n"
      ],
      "metadata": {
        "id": "lMAbbbZ3Xw8j"
      },
      "execution_count": null,
      "outputs": []
    }
  ]
}