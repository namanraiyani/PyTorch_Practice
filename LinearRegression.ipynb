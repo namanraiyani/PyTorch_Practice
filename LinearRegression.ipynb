{
  "nbformat": 4,
  "nbformat_minor": 0,
  "metadata": {
    "colab": {
      "provenance": [],
      "authorship_tag": "ABX9TyPRTdyRGmCdjOO6Pq4gPp5R"
    },
    "kernelspec": {
      "name": "python3",
      "display_name": "Python 3"
    },
    "language_info": {
      "name": "python"
    }
  },
  "cells": [
    {
      "cell_type": "markdown",
      "source": [
        "Import Libraries"
      ],
      "metadata": {
        "id": "quZXe0tsdcn_"
      }
    },
    {
      "cell_type": "code",
      "execution_count": 111,
      "metadata": {
        "id": "sSkJjCwgFW6H"
      },
      "outputs": [],
      "source": [
        "import torch\n",
        "import torch.nn as nn\n",
        "import numpy as np\n",
        "import matplotlib.pyplot as plt"
      ]
    },
    {
      "cell_type": "markdown",
      "source": [
        "Data"
      ],
      "metadata": {
        "id": "UJD4Vm79dhJb"
      }
    },
    {
      "cell_type": "code",
      "source": [
        "x_train = np.array([[2.5], [3.8], [5.1], [6.3], [7.0], [3.5],\n",
        "                        [8.5], [5.7], [7.8], [1.9], [6.5],\n",
        "                        [9.8], [4.9], [8.1], [2.2]], dtype=np.float32)\n",
        "\n",
        "y_train = np.array([[1.4], [2.2], [2.9], [3.4], [3.7], [2.0],\n",
        "                        [4.1], [3.1], [3.9], [1.1], [3.5],\n",
        "                        [4.6], [2.8], [4.2], [1.3]], dtype=np.float32)"
      ],
      "metadata": {
        "id": "IOnCoFsMHkWR"
      },
      "execution_count": 112,
      "outputs": []
    },
    {
      "cell_type": "code",
      "source": [
        "# Convert numpy arrays to tensors\n",
        "x_train = torch.from_numpy(x_train)\n",
        "y_train = torch.from_numpy(y_train)"
      ],
      "metadata": {
        "id": "2ia-L31LIbTO"
      },
      "execution_count": 113,
      "outputs": []
    },
    {
      "cell_type": "code",
      "source": [
        "# Visualize data\n",
        "plt.figure(figsize = (5,5))\n",
        "plt.plot(x_train,y_train, 'ro', label = \"Data\")\n",
        "plt.xlabel('X')\n",
        "plt.ylabel('Y')\n",
        "plt.legend()"
      ],
      "metadata": {
        "colab": {
          "base_uri": "https://localhost:8080/",
          "height": 483
        },
        "id": "_GcJJ5VCICKm",
        "outputId": "7978a44a-514e-469e-dd6d-2d880d6bbce5"
      },
      "execution_count": 114,
      "outputs": [
        {
          "output_type": "execute_result",
          "data": {
            "text/plain": [
              "<matplotlib.legend.Legend at 0x7a6cb2dd9c50>"
            ]
          },
          "metadata": {},
          "execution_count": 114
        },
        {
          "output_type": "display_data",
          "data": {
            "text/plain": [
              "<Figure size 500x500 with 1 Axes>"
            ],
            "image/png": "[encoded data removed]"
          },
          "metadata": {}
        }
      ]
    },
    {
      "cell_type": "markdown",
      "source": [
        "Define Linear Model"
      ],
      "metadata": {
        "id": "81iCiCsadsoR"
      }
    },
    {
      "cell_type": "code",
      "source": [
        "class LinearRegression(nn.Module):\n",
        "  def __init__(self):\n",
        "    super().__init__()\n",
        "    self.linear_model = nn.Linear(in_features = 1, out_features = 1)\n",
        "\n",
        "  def forward(self, x):\n",
        "    output_prediction = self.linear_model(x)\n",
        "    return output_prediction"
      ],
      "metadata": {
        "id": "UXax3L8HY8e_"
      },
      "execution_count": 115,
      "outputs": []
    },
    {
      "cell_type": "code",
      "source": [
        "model = LinearRegression()\n",
        "model"
      ],
      "metadata": {
        "colab": {
          "base_uri": "https://localhost:8080/"
        },
        "id": "D__gWKrrJIeD",
        "outputId": "edec09bd-412c-4124-b94b-7c8216531180"
      },
      "execution_count": 116,
      "outputs": [
        {
          "output_type": "execute_result",
          "data": {
            "text/plain": [
              "LinearRegression(\n",
              "  (linear_model): Linear(in_features=1, out_features=1, bias=True)\n",
              ")"
            ]
          },
          "metadata": {},
          "execution_count": 116
        }
      ]
    },
    {
      "cell_type": "code",
      "source": [
        "model.state_dict()"
      ],
      "metadata": {
        "colab": {
          "base_uri": "https://localhost:8080/"
        },
        "id": "JyqLKJLmJMw_",
        "outputId": "8bdcfad2-e520-4020-b1a2-c7fcbefa5cf6"
      },
      "execution_count": 117,
      "outputs": [
        {
          "output_type": "execute_result",
          "data": {
            "text/plain": [
              "OrderedDict([('linear_model.weight', tensor([[0.0696]])),\n",
              "             ('linear_model.bias', tensor([-0.4611]))])"
            ]
          },
          "metadata": {},
          "execution_count": 117
        }
      ]
    },
    {
      "cell_type": "markdown",
      "source": [
        "Loss Function and Optimizer"
      ],
      "metadata": {
        "id": "-9YUrLCqdwCW"
      }
    },
    {
      "cell_type": "code",
      "source": [
        "criterion = nn.MSELoss()\n",
        "optimizer = torch.optim.SGD(model.parameters(), lr = 1e-4)"
      ],
      "metadata": {
        "id": "OVmFx_oMNJ-9"
      },
      "execution_count": 118,
      "outputs": []
    },
    {
      "cell_type": "markdown",
      "source": [
        "Training Loop"
      ],
      "metadata": {
        "id": "rmRsJJ_Ydyb-"
      }
    },
    {
      "cell_type": "code",
      "source": [
        "epochs = 1000\n",
        "for epoch in range(epochs):\n",
        "  model.train()\n",
        "  output_prediction = model(x_train)\n",
        "  loss = criterion(output_prediction, y_train)\n",
        "\n",
        "  optimizer.zero_grad()\n",
        "  loss.backward()\n",
        "  optimizer.step()\n",
        "\n",
        "  if(epoch + 1) % 50 == 0:\n",
        "    print(f'Epoch - {epoch + 1} / {epochs} \\t Loss - {loss.item():.6f}')"
      ],
      "metadata": {
        "colab": {
          "base_uri": "https://localhost:8080/"
        },
        "id": "lMAbbbZ3Xw8j",
        "outputId": "ecccfb18-89e9-4709-f402-c0e91eeb4864"
      },
      "execution_count": 119,
      "outputs": [
        {
          "output_type": "stream",
          "name": "stdout",
          "text": [
            "Epoch - 50 / 1000 \t Loss - 4.828137\n",
            "Epoch - 100 / 1000 \t Loss - 2.335187\n",
            "Epoch - 150 / 1000 \t Loss - 1.160538\n",
            "Epoch - 200 / 1000 \t Loss - 0.606977\n",
            "Epoch - 250 / 1000 \t Loss - 0.346031\n",
            "Epoch - 300 / 1000 \t Loss - 0.222945\n",
            "Epoch - 350 / 1000 \t Loss - 0.164807\n",
            "Epoch - 400 / 1000 \t Loss - 0.137271\n",
            "Epoch - 450 / 1000 \t Loss - 0.124151\n",
            "Epoch - 500 / 1000 \t Loss - 0.117824\n",
            "Epoch - 550 / 1000 \t Loss - 0.114698\n",
            "Epoch - 600 / 1000 \t Loss - 0.113080\n",
            "Epoch - 650 / 1000 \t Loss - 0.112173\n",
            "Epoch - 700 / 1000 \t Loss - 0.111601\n",
            "Epoch - 750 / 1000 \t Loss - 0.111188\n",
            "Epoch - 800 / 1000 \t Loss - 0.110851\n",
            "Epoch - 850 / 1000 \t Loss - 0.110549\n",
            "Epoch - 900 / 1000 \t Loss - 0.110264\n",
            "Epoch - 950 / 1000 \t Loss - 0.109988\n",
            "Epoch - 1000 / 1000 \t Loss - 0.109716\n"
          ]
        }
      ]
    },
    {
      "cell_type": "markdown",
      "source": [
        "Test"
      ],
      "metadata": {
        "id": "zpKPeHdGd5Vi"
      }
    },
    {
      "cell_type": "code",
      "source": [
        "model.eval()\n",
        "with torch.no_grad():\n",
        "  predictions = model(x_train)\n",
        "predictions.data.numpy()"
      ],
      "metadata": {
        "colab": {
          "base_uri": "https://localhost:8080/"
        },
        "id": "VNanLQwtYo52",
        "outputId": "f69475c6-d360-4733-ae79-722b17883560"
      },
      "execution_count": 120,
      "outputs": [
        {
          "output_type": "execute_result",
          "data": {
            "text/plain": [
              "array([[1.0709591],\n",
              "       [1.8153017],\n",
              "       [2.5596445],\n",
              "       [3.24673  ],\n",
              "       [3.6475298],\n",
              "       [1.6435304],\n",
              "       [4.5063868],\n",
              "       [2.903187 ],\n",
              "       [4.105587 ],\n",
              "       [0.7274163],\n",
              "       [3.3612442],\n",
              "       [5.2507296],\n",
              "       [2.44513  ],\n",
              "       [4.2773585],\n",
              "       [0.8991877]], dtype=float32)"
            ]
          },
          "metadata": {},
          "execution_count": 120
        }
      ]
    },
    {
      "cell_type": "code",
      "source": [
        "# Visualize Results\n",
        "plt.figure(figsize = (5,5))\n",
        "plt.plot(x_train.numpy(), y_train.numpy(), 'ro', label = \"Original Data\")\n",
        "\n",
        "plt.plot(x_train.numpy(), predictions, label = 'Fitted Line')\n",
        "\n",
        "plt.plot(x_train.numpy(), predictions.numpy(), 'go', markersize = 5, label = 'Predictions')\n",
        "\n",
        "plt.xlabel('X')\n",
        "plt.ylabel('Y')\n",
        "plt.title('Linear Regression')\n",
        "plt.legend()"
      ],
      "metadata": {
        "colab": {
          "base_uri": "https://localhost:8080/",
          "height": 505
        },
        "id": "cxfk00CIeG75",
        "outputId": "7779f871-ba49-4aab-8e31-f39168132b26"
      },
      "execution_count": 132,
      "outputs": [
        {
          "output_type": "execute_result",
          "data": {
            "text/plain": [
              "<matplotlib.legend.Legend at 0x7a6cb29068d0>"
            ]
          },
          "metadata": {},
          "execution_count": 132
        },
        {
          "output_type": "display_data",
          "data": {
            "text/plain": [
              "<Figure size 500x500 with 1 Axes>"
            ],
            "image/png": "[encoded data removed]"
          },
          "metadata": {}
        }
      ]
    },
    {
      "cell_type": "markdown",
      "source": [
        "Single Data point"
      ],
      "metadata": {
        "id": "eGXdMKDBgqLq"
      }
    },
    {
      "cell_type": "code",
      "source": [
        "test_data = 7.2\n",
        "test_data_tensor = torch.tensor(\n",
        "    [[test_data]],\n",
        "    dtype = torch.float32\n",
        ")\n",
        "\n",
        "model.eval()\n",
        "\n",
        "with torch.no_grad():\n",
        "  y_pred = model(test_data_tensor)\n",
        "\n",
        "print(f\"Prediction - {y_pred.item():.4f}\")"
      ],
      "metadata": {
        "colab": {
          "base_uri": "https://localhost:8080/"
        },
        "id": "UKp3h_N8fts1",
        "outputId": "48036143-7129-4353-f9ef-0a109480c70f"
      },
      "execution_count": 133,
      "outputs": [
        {
          "output_type": "stream",
          "name": "stdout",
          "text": [
            "Prediction - 3.7620\n"
          ]
        }
      ]
    },
    {
      "cell_type": "code",
      "source": [
        "fig = plt.figure(figsize = (5, 5))\n",
        "plt.plot(x_train.numpy(), y_train.numpy(), 'ro', label = \"Original Data\")\n",
        "\n",
        "plt.plot(x_train.numpy(), predictions, label = 'Fitted Line')\n",
        "\n",
        "plt.scatter([test_data_tensor], [y_pred.item()], color = 'green', label = 'Single Test Data Point')\n",
        "\n",
        "plt.xlabel('X')\n",
        "plt.ylabel('Y')\n",
        "plt.legend()\n",
        "plt.title('Custom Prediction')"
      ],
      "metadata": {
        "colab": {
          "base_uri": "https://localhost:8080/",
          "height": 505
        },
        "id": "9SidRvwBhOAT",
        "outputId": "6f23789a-a945-4ddd-c957-0f0b31f9fe80"
      },
      "execution_count": 134,
      "outputs": [
        {
          "output_type": "execute_result",
          "data": {
            "text/plain": [
              "Text(0.5, 1.0, 'Custom Prediction')"
            ]
          },
          "metadata": {},
          "execution_count": 134
        },
        {
          "output_type": "display_data",
          "data": {
            "text/plain": [
              "<Figure size 500x500 with 1 Axes>"
            ],
            "image/png": "[encoded data removed]"
          },
          "metadata": {}
        }
      ]
    }
  ]
}